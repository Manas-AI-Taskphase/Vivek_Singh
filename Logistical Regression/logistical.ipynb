{
 "cells": [
  {
   "cell_type": "code",
   "execution_count": 41,
   "id": "1d52d95b-0626-4d30-bc9f-b5497c733d93",
   "metadata": {},
   "outputs": [],
   "source": [
    "import numpy as np\n",
    "import pandas as pd \n",
    "import matplotlib.pyplot as plt\n"
   ]
  },
  {
   "cell_type": "code",
   "execution_count": 42,
   "id": "70f7931a-9425-4d00-af33-b771c43cc522",
   "metadata": {},
   "outputs": [
    {
     "data": {
      "text/html": [
       "<div>\n",
       "<style scoped>\n",
       "    .dataframe tbody tr th:only-of-type {\n",
       "        vertical-align: middle;\n",
       "    }\n",
       "\n",
       "    .dataframe tbody tr th {\n",
       "        vertical-align: top;\n",
       "    }\n",
       "\n",
       "    .dataframe thead th {\n",
       "        text-align: right;\n",
       "    }\n",
       "</style>\n",
       "<table border=\"1\" class=\"dataframe\">\n",
       "  <thead>\n",
       "    <tr style=\"text-align: right;\">\n",
       "      <th></th>\n",
       "      <th>Survived</th>\n",
       "      <th>Pclass</th>\n",
       "      <th>Name</th>\n",
       "      <th>Sex</th>\n",
       "      <th>Age</th>\n",
       "      <th>Siblings/Spouses Aboard</th>\n",
       "      <th>Parents/Children Aboard</th>\n",
       "      <th>Fare</th>\n",
       "    </tr>\n",
       "  </thead>\n",
       "  <tbody>\n",
       "    <tr>\n",
       "      <th>0</th>\n",
       "      <td>0</td>\n",
       "      <td>3</td>\n",
       "      <td>Mr. Owen Harris Braund</td>\n",
       "      <td>male</td>\n",
       "      <td>22.0</td>\n",
       "      <td>1</td>\n",
       "      <td>0</td>\n",
       "      <td>7.2500</td>\n",
       "    </tr>\n",
       "    <tr>\n",
       "      <th>1</th>\n",
       "      <td>1</td>\n",
       "      <td>1</td>\n",
       "      <td>Mrs. John Bradley (Florence Briggs Thayer) Cum...</td>\n",
       "      <td>female</td>\n",
       "      <td>38.0</td>\n",
       "      <td>1</td>\n",
       "      <td>0</td>\n",
       "      <td>71.2833</td>\n",
       "    </tr>\n",
       "    <tr>\n",
       "      <th>2</th>\n",
       "      <td>1</td>\n",
       "      <td>3</td>\n",
       "      <td>Miss. Laina Heikkinen</td>\n",
       "      <td>female</td>\n",
       "      <td>26.0</td>\n",
       "      <td>0</td>\n",
       "      <td>0</td>\n",
       "      <td>7.9250</td>\n",
       "    </tr>\n",
       "    <tr>\n",
       "      <th>3</th>\n",
       "      <td>1</td>\n",
       "      <td>1</td>\n",
       "      <td>Mrs. Jacques Heath (Lily May Peel) Futrelle</td>\n",
       "      <td>female</td>\n",
       "      <td>35.0</td>\n",
       "      <td>1</td>\n",
       "      <td>0</td>\n",
       "      <td>53.1000</td>\n",
       "    </tr>\n",
       "    <tr>\n",
       "      <th>4</th>\n",
       "      <td>0</td>\n",
       "      <td>3</td>\n",
       "      <td>Mr. William Henry Allen</td>\n",
       "      <td>male</td>\n",
       "      <td>35.0</td>\n",
       "      <td>0</td>\n",
       "      <td>0</td>\n",
       "      <td>8.0500</td>\n",
       "    </tr>\n",
       "  </tbody>\n",
       "</table>\n",
       "</div>"
      ],
      "text/plain": [
       "   Survived  Pclass                                               Name  \\\n",
       "0         0       3                             Mr. Owen Harris Braund   \n",
       "1         1       1  Mrs. John Bradley (Florence Briggs Thayer) Cum...   \n",
       "2         1       3                              Miss. Laina Heikkinen   \n",
       "3         1       1        Mrs. Jacques Heath (Lily May Peel) Futrelle   \n",
       "4         0       3                            Mr. William Henry Allen   \n",
       "\n",
       "      Sex   Age  Siblings/Spouses Aboard  Parents/Children Aboard     Fare  \n",
       "0    male  22.0                        1                        0   7.2500  \n",
       "1  female  38.0                        1                        0  71.2833  \n",
       "2  female  26.0                        0                        0   7.9250  \n",
       "3  female  35.0                        1                        0  53.1000  \n",
       "4    male  35.0                        0                        0   8.0500  "
      ]
     },
     "execution_count": 42,
     "metadata": {},
     "output_type": "execute_result"
    }
   ],
   "source": [
    "df = pd .read_csv(\"train.csv\")\n",
    "\n",
    "df.head()"
   ]
  },
  {
   "cell_type": "code",
   "execution_count": 43,
   "id": "a9e53780-b3c1-42ee-a1fe-64dff125301e",
   "metadata": {},
   "outputs": [
    {
     "data": {
      "text/html": [
       "<div>\n",
       "<style scoped>\n",
       "    .dataframe tbody tr th:only-of-type {\n",
       "        vertical-align: middle;\n",
       "    }\n",
       "\n",
       "    .dataframe tbody tr th {\n",
       "        vertical-align: top;\n",
       "    }\n",
       "\n",
       "    .dataframe thead th {\n",
       "        text-align: right;\n",
       "    }\n",
       "</style>\n",
       "<table border=\"1\" class=\"dataframe\">\n",
       "  <thead>\n",
       "    <tr style=\"text-align: right;\">\n",
       "      <th></th>\n",
       "      <th>Pclass</th>\n",
       "      <th>Sex</th>\n",
       "      <th>Age</th>\n",
       "      <th>Siblings/Spouses Aboard</th>\n",
       "      <th>Parents/Children Aboard</th>\n",
       "      <th>Fare</th>\n",
       "    </tr>\n",
       "  </thead>\n",
       "  <tbody>\n",
       "    <tr>\n",
       "      <th>0</th>\n",
       "      <td>3</td>\n",
       "      <td>1</td>\n",
       "      <td>22.0</td>\n",
       "      <td>1</td>\n",
       "      <td>0</td>\n",
       "      <td>7.2500</td>\n",
       "    </tr>\n",
       "    <tr>\n",
       "      <th>1</th>\n",
       "      <td>1</td>\n",
       "      <td>0</td>\n",
       "      <td>38.0</td>\n",
       "      <td>1</td>\n",
       "      <td>0</td>\n",
       "      <td>71.2833</td>\n",
       "    </tr>\n",
       "    <tr>\n",
       "      <th>2</th>\n",
       "      <td>3</td>\n",
       "      <td>0</td>\n",
       "      <td>26.0</td>\n",
       "      <td>0</td>\n",
       "      <td>0</td>\n",
       "      <td>7.9250</td>\n",
       "    </tr>\n",
       "    <tr>\n",
       "      <th>3</th>\n",
       "      <td>1</td>\n",
       "      <td>0</td>\n",
       "      <td>35.0</td>\n",
       "      <td>1</td>\n",
       "      <td>0</td>\n",
       "      <td>53.1000</td>\n",
       "    </tr>\n",
       "    <tr>\n",
       "      <th>4</th>\n",
       "      <td>3</td>\n",
       "      <td>1</td>\n",
       "      <td>35.0</td>\n",
       "      <td>0</td>\n",
       "      <td>0</td>\n",
       "      <td>8.0500</td>\n",
       "    </tr>\n",
       "  </tbody>\n",
       "</table>\n",
       "</div>"
      ],
      "text/plain": [
       "   Pclass  Sex   Age  Siblings/Spouses Aboard  Parents/Children Aboard  \\\n",
       "0       3    1  22.0                        1                        0   \n",
       "1       1    0  38.0                        1                        0   \n",
       "2       3    0  26.0                        0                        0   \n",
       "3       1    0  35.0                        1                        0   \n",
       "4       3    1  35.0                        0                        0   \n",
       "\n",
       "      Fare  \n",
       "0   7.2500  \n",
       "1  71.2833  \n",
       "2   7.9250  \n",
       "3  53.1000  \n",
       "4   8.0500  "
      ]
     },
     "execution_count": 43,
     "metadata": {},
     "output_type": "execute_result"
    }
   ],
   "source": [
    "df = pd .read_csv(\"train.csv\")\n",
    "\n",
    "df_scaled = df.drop(\"Survived\", axis=1)\n",
    "df_scaled = df_scaled.drop(\"Name\", axis=1)\n",
    "\n",
    "#df_scaled = df_scaled.drop(\"Sex\", axis=1)\n",
    "df_scaled[\"Sex\"] = (df_scaled[\"Sex\"] == \"male\").astype(int)\n",
    "\n",
    "df_scaled.head()"
   ]
  },
  {
   "cell_type": "code",
   "execution_count": 44,
   "id": "abc0511b-64ef-49c6-b568-cc91bf490ba9",
   "metadata": {},
   "outputs": [
    {
     "data": {
      "text/html": [
       "<div>\n",
       "<style scoped>\n",
       "    .dataframe tbody tr th:only-of-type {\n",
       "        vertical-align: middle;\n",
       "    }\n",
       "\n",
       "    .dataframe tbody tr th {\n",
       "        vertical-align: top;\n",
       "    }\n",
       "\n",
       "    .dataframe thead th {\n",
       "        text-align: right;\n",
       "    }\n",
       "</style>\n",
       "<table border=\"1\" class=\"dataframe\">\n",
       "  <thead>\n",
       "    <tr style=\"text-align: right;\">\n",
       "      <th></th>\n",
       "      <th>Pclass</th>\n",
       "      <th>Sex</th>\n",
       "      <th>Age</th>\n",
       "      <th>Siblings/Spouses Aboard</th>\n",
       "      <th>Parents/Children Aboard</th>\n",
       "      <th>Fare</th>\n",
       "    </tr>\n",
       "  </thead>\n",
       "  <tbody>\n",
       "    <tr>\n",
       "      <th>0</th>\n",
       "      <td>0.826213</td>\n",
       "      <td>0.775715</td>\n",
       "      <td>-0.516323</td>\n",
       "      <td>0.406014</td>\n",
       "      <td>-0.482881</td>\n",
       "      <td>-0.527431</td>\n",
       "    </tr>\n",
       "    <tr>\n",
       "      <th>1</th>\n",
       "      <td>-1.569390</td>\n",
       "      <td>-1.286900</td>\n",
       "      <td>0.609757</td>\n",
       "      <td>0.406014</td>\n",
       "      <td>-0.482881</td>\n",
       "      <td>0.840329</td>\n",
       "    </tr>\n",
       "    <tr>\n",
       "      <th>2</th>\n",
       "      <td>0.826213</td>\n",
       "      <td>-1.286900</td>\n",
       "      <td>-0.234803</td>\n",
       "      <td>-0.491573</td>\n",
       "      <td>-0.482881</td>\n",
       "      <td>-0.513013</td>\n",
       "    </tr>\n",
       "    <tr>\n",
       "      <th>3</th>\n",
       "      <td>-1.569390</td>\n",
       "      <td>-1.286900</td>\n",
       "      <td>0.398617</td>\n",
       "      <td>0.406014</td>\n",
       "      <td>-0.482881</td>\n",
       "      <td>0.451931</td>\n",
       "    </tr>\n",
       "    <tr>\n",
       "      <th>4</th>\n",
       "      <td>0.826213</td>\n",
       "      <td>0.775715</td>\n",
       "      <td>0.398617</td>\n",
       "      <td>-0.491573</td>\n",
       "      <td>-0.482881</td>\n",
       "      <td>-0.510343</td>\n",
       "    </tr>\n",
       "  </tbody>\n",
       "</table>\n",
       "</div>"
      ],
      "text/plain": [
       "     Pclass       Sex       Age  Siblings/Spouses Aboard  \\\n",
       "0  0.826213  0.775715 -0.516323                 0.406014   \n",
       "1 -1.569390 -1.286900  0.609757                 0.406014   \n",
       "2  0.826213 -1.286900 -0.234803                -0.491573   \n",
       "3 -1.569390 -1.286900  0.398617                 0.406014   \n",
       "4  0.826213  0.775715  0.398617                -0.491573   \n",
       "\n",
       "   Parents/Children Aboard      Fare  \n",
       "0                -0.482881 -0.527431  \n",
       "1                -0.482881  0.840329  \n",
       "2                -0.482881 -0.513013  \n",
       "3                -0.482881  0.451931  \n",
       "4                -0.482881 -0.510343  "
      ]
     },
     "execution_count": 44,
     "metadata": {},
     "output_type": "execute_result"
    }
   ],
   "source": [
    "m,n = df_scaled.shape\n",
    "\n",
    "\n",
    "\n",
    "# Min-Max Scaling (Normalization)\n",
    "\"\"\"\n",
    "for i in range(n):\n",
    "    series = df_scaled.iloc[:, i]\n",
    "    min_value = series.min()\n",
    "    max_value = series.max()\n",
    "    df_scaled.iloc[:, i] = (series - min_value) / (max_value - min_value)\n",
    "\n",
    "print(df_scaled.head())\n",
    "\"\"\"\n",
    "\n",
    "#standardization Scaling \n",
    "\n",
    "for i in range(n):    \n",
    "    x= df_scaled.iloc[:, i]\n",
    "    mean_value = x.mean()\n",
    "    std_deviation = abs(x.std())\n",
    "    stanadardized_x = (x - mean_value) / std_deviation\n",
    "    df_scaled.iloc[:, i]= stanadardized_x\n",
    "\n",
    "df_scaled.head()\n"
   ]
  },
  {
   "cell_type": "code",
   "execution_count": 45,
   "id": "7d94b861-c2a4-4be9-bafa-c20cf30b98f2",
   "metadata": {},
   "outputs": [
    {
     "name": "stdout",
     "output_type": "stream",
     "text": [
      "[[ 0.8262132   0.77571458 -0.51632318  0.40601431 -0.48288082 -0.52743136]\n",
      " [-1.5693899  -1.28689976  0.60975657  0.40601431 -0.48288082  0.84032938]\n",
      " [ 0.8262132  -1.28689976 -0.23480324 -0.49157288 -0.48288082 -0.51301326]\n",
      " ...\n",
      " [-1.5693899  -1.28689976  0.68013656  0.40601431 -0.48288082  0.51173982]\n",
      " [ 0.8262132  -1.28689976 -0.79784312  0.40601431 -0.48288082 -0.373461  ]\n",
      " [ 0.8262132   0.77571458  0.18747667 -0.49157288 -0.48288082 -0.51301326]]\n"
     ]
    }
   ],
   "source": [
    "Y = df.iloc[:,0]\n",
    "X = df_scaled.to_numpy()\n",
    "print(X)"
   ]
  },
  {
   "cell_type": "code",
   "execution_count": 46,
   "id": "792a052a-c721-4b95-8b58-f96854dc27e1",
   "metadata": {},
   "outputs": [
    {
     "data": {
      "text/plain": [
       "'\\nfor i in range(4):\\n    plt.scatter(df_scaled.iloc[:, i],Y)\\n    plt.show()\\n'"
      ]
     },
     "execution_count": 46,
     "metadata": {},
     "output_type": "execute_result"
    }
   ],
   "source": [
    "\"\"\"\n",
    "for i in range(4):\n",
    "    plt.scatter(df_scaled.iloc[:, i],Y)\n",
    "    plt.show()\n",
    "\"\"\""
   ]
  },
  {
   "cell_type": "code",
   "execution_count": 55,
   "id": "97ddb5f8-5d12-4d42-abac-f81d0976acfd",
   "metadata": {},
   "outputs": [
    {
     "name": "stdout",
     "output_type": "stream",
     "text": [
      "[-0.35898854 -0.33704695  0.22434174 -0.17641268  0.20981108  0.22916822] -0.45395810386781593\n"
     ]
    }
   ],
   "source": [
    "w = np.zeros(n)\n",
    "b = 0\n",
    "\n",
    "alpha = 0.001\n",
    "lamb = 1\n",
    "\n",
    "epochs = 30000\n",
    "\n",
    "Cost = np.zeros(epochs)\n",
    "iter = np.linspace(0, epochs-1, epochs)\n",
    "\n",
    "for i in range(epochs):\n",
    "    z = np.dot(X,w) + b\n",
    "    Y_pred = 1 / (1 + np.exp((-1)*z))\n",
    "    \n",
    "    D_w = (1/m)*np.sum(Y_pred- Y)*X + (lamb/m) * w\n",
    "    D_b = (1/m)*np.sum(Y_pred- Y)\n",
    "\n",
    "    cost = (-1/m) * np.sum(Y @ np.log(Y_pred)+(1-Y)@np.log(1-Y_pred)) + (lamb/(2*m))*np.sum(w**2)\n",
    "    Cost[i] = cost\n",
    "    \n",
    "    w = w - alpha * D_w[0]\n",
    "    b = b - alpha * D_b\n",
    "\n",
    "print(w, b)"
   ]
  },
  {
   "cell_type": "code",
   "execution_count": 56,
   "id": "07b15917-14a3-400b-a1dd-e7a47f255190",
   "metadata": {},
   "outputs": [
    {
     "name": "stdout",
     "output_type": "stream",
     "text": [
      "0.5786870463995796\n"
     ]
    }
   ],
   "source": [
    "\"\"\"\n",
    "for i in range(m):\n",
    "    print(Y_pred[i], Y[i])\n",
    "\"\"\"\n",
    "print(cost)\n"
   ]
  },
  {
   "cell_type": "code",
   "execution_count": 57,
   "id": "ae38c1a6-1c6f-442b-b5d6-81df43889d58",
   "metadata": {},
   "outputs": [
    {
     "data": {
      "image/png": "[encoded data removed]",
      "text/plain": [
       "<Figure size 640x480 with 1 Axes>"
      ]
     },
     "metadata": {},
     "output_type": "display_data"
    },
    {
     "name": "stdout",
     "output_type": "stream",
     "text": [
      "0.578562347746607\n"
     ]
    }
   ],
   "source": [
    "plt.plot(iter, Cost)\n",
    "plt.show()\n",
    "print(Cost.min())"
   ]
  },
  {
   "cell_type": "code",
   "execution_count": 58,
   "id": "90199dcd-7e38-49a2-a01c-25e7411c9d79",
   "metadata": {},
   "outputs": [
    {
     "data": {
      "text/plain": [
       "<function matplotlib.pyplot.show(close=None, block=None)>"
      ]
     },
     "execution_count": 58,
     "metadata": {},
     "output_type": "execute_result"
    },
    {
     "data": {
      "image/png": "[encoded data removed]",
      "text/plain": [
       "<Figure size 640x480 with 1 Axes>"
      ]
     },
     "metadata": {},
     "output_type": "display_data"
    }
   ],
   "source": [
    "plt.scatter(np.linspace(0, m-1, m), Y_pred, color=\"red\")\n",
    "plt.show\n",
    "plt.scatter(np.linspace(0, m-1, m), Y, color=\"blue\")\n",
    "plt.show"
   ]
  },
  {
   "cell_type": "code",
   "execution_count": null,
   "id": "5456bcc8-f0f2-4139-a98c-8d6fd246b4a6",
   "metadata": {},
   "outputs": [],
   "source": []
  }
 ],
 "metadata": {
  "kernelspec": {
   "display_name": "Python 3 (ipykernel)",
   "language": "python",
   "name": "python3"
  },
  "language_info": {
   "codemirror_mode": {
    "name": "ipython",
    "version": 3
   },
   "file_extension": ".py",
   "mimetype": "text/x-python",
   "name": "python",
   "nbconvert_exporter": "python",
   "pygments_lexer": "ipython3",
   "version": "3.8.10"
  }
 },
 "nbformat": 4,
 "nbformat_minor": 5
}
