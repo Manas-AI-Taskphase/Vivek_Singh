{
 "cells": [
  {
   "cell_type": "code",
   "execution_count": 1877,
   "id": "779b8c3e-fa57-45d8-94ed-908debe94fa5",
   "metadata": {},
   "outputs": [],
   "source": [
    "import numpy as np\n",
    "import pandas as pd\n",
    "import matplotlib.pyplot as plt"
   ]
  },
  {
   "cell_type": "code",
   "execution_count": 1878,
   "id": "6f9b0bb8-9a86-4d40-8be6-770083dc73ae",
   "metadata": {},
   "outputs": [],
   "source": [
    "df = pd.read_csv(\"dinos.csv\")"
   ]
  },
  {
   "cell_type": "code",
   "execution_count": 1879,
   "id": "6a99265a-9c39-4c59-a72f-5ef4288b222a",
   "metadata": {},
   "outputs": [
    {
     "data": {
      "text/html": [
       "<div>\n",
       "<style scoped>\n",
       "    .dataframe tbody tr th:only-of-type {\n",
       "        vertical-align: middle;\n",
       "    }\n",
       "\n",
       "    .dataframe tbody tr th {\n",
       "        vertical-align: top;\n",
       "    }\n",
       "\n",
       "    .dataframe thead th {\n",
       "        text-align: right;\n",
       "    }\n",
       "</style>\n",
       "<table border=\"1\" class=\"dataframe\">\n",
       "  <thead>\n",
       "    <tr style=\"text-align: right;\">\n",
       "      <th></th>\n",
       "      <th>Length</th>\n",
       "      <th>Age</th>\n",
       "      <th>TailLength</th>\n",
       "      <th>Height</th>\n",
       "      <th>Width</th>\n",
       "      <th>Gender</th>\n",
       "      <th>Completeness</th>\n",
       "      <th>Volume</th>\n",
       "      <th>Iguanadon</th>\n",
       "      <th>Pterodactyl</th>\n",
       "      <th>Brachiosaurus</th>\n",
       "      <th>Raptor</th>\n",
       "      <th>Vulcanodon</th>\n",
       "      <th>Stegosaurus</th>\n",
       "      <th>Plateosaurus</th>\n",
       "    </tr>\n",
       "  </thead>\n",
       "  <tbody>\n",
       "    <tr>\n",
       "      <th>0</th>\n",
       "      <td>59.0</td>\n",
       "      <td>63.4</td>\n",
       "      <td>68.0</td>\n",
       "      <td>10.8120</td>\n",
       "      <td>7.480</td>\n",
       "      <td>1</td>\n",
       "      <td>0.545</td>\n",
       "      <td>4771.551840</td>\n",
       "      <td>1</td>\n",
       "      <td>0</td>\n",
       "      <td>0</td>\n",
       "      <td>0</td>\n",
       "      <td>0</td>\n",
       "      <td>0</td>\n",
       "      <td>0</td>\n",
       "    </tr>\n",
       "    <tr>\n",
       "      <th>1</th>\n",
       "      <td>22.0</td>\n",
       "      <td>24.0</td>\n",
       "      <td>25.5</td>\n",
       "      <td>6.3750</td>\n",
       "      <td>3.825</td>\n",
       "      <td>1</td>\n",
       "      <td>0.531</td>\n",
       "      <td>536.456250</td>\n",
       "      <td>0</td>\n",
       "      <td>1</td>\n",
       "      <td>0</td>\n",
       "      <td>0</td>\n",
       "      <td>0</td>\n",
       "      <td>0</td>\n",
       "      <td>0</td>\n",
       "    </tr>\n",
       "    <tr>\n",
       "      <th>2</th>\n",
       "      <td>37.1</td>\n",
       "      <td>40.0</td>\n",
       "      <td>42.5</td>\n",
       "      <td>11.1350</td>\n",
       "      <td>6.630</td>\n",
       "      <td>0</td>\n",
       "      <td>0.661</td>\n",
       "      <td>2738.909355</td>\n",
       "      <td>0</td>\n",
       "      <td>1</td>\n",
       "      <td>0</td>\n",
       "      <td>0</td>\n",
       "      <td>0</td>\n",
       "      <td>0</td>\n",
       "      <td>0</td>\n",
       "    </tr>\n",
       "    <tr>\n",
       "      <th>3</th>\n",
       "      <td>23.2</td>\n",
       "      <td>25.4</td>\n",
       "      <td>30.0</td>\n",
       "      <td>11.5200</td>\n",
       "      <td>4.020</td>\n",
       "      <td>0</td>\n",
       "      <td>0.793</td>\n",
       "      <td>1074.401280</td>\n",
       "      <td>0</td>\n",
       "      <td>0</td>\n",
       "      <td>1</td>\n",
       "      <td>0</td>\n",
       "      <td>0</td>\n",
       "      <td>0</td>\n",
       "      <td>0</td>\n",
       "    </tr>\n",
       "    <tr>\n",
       "      <th>4</th>\n",
       "      <td>36.5</td>\n",
       "      <td>39.0</td>\n",
       "      <td>41.4</td>\n",
       "      <td>11.1366</td>\n",
       "      <td>6.003</td>\n",
       "      <td>1</td>\n",
       "      <td>0.931</td>\n",
       "      <td>2440.134858</td>\n",
       "      <td>0</td>\n",
       "      <td>1</td>\n",
       "      <td>0</td>\n",
       "      <td>0</td>\n",
       "      <td>0</td>\n",
       "      <td>0</td>\n",
       "      <td>0</td>\n",
       "    </tr>\n",
       "  </tbody>\n",
       "</table>\n",
       "</div>"
      ],
      "text/plain": [
       "   Length   Age  TailLength   Height  Width  Gender  Completeness  \\\n",
       "0    59.0  63.4        68.0  10.8120  7.480       1         0.545   \n",
       "1    22.0  24.0        25.5   6.3750  3.825       1         0.531   \n",
       "2    37.1  40.0        42.5  11.1350  6.630       0         0.661   \n",
       "3    23.2  25.4        30.0  11.5200  4.020       0         0.793   \n",
       "4    36.5  39.0        41.4  11.1366  6.003       1         0.931   \n",
       "\n",
       "        Volume  Iguanadon  Pterodactyl  Brachiosaurus  Raptor  Vulcanodon  \\\n",
       "0  4771.551840          1            0              0       0           0   \n",
       "1   536.456250          0            1              0       0           0   \n",
       "2  2738.909355          0            1              0       0           0   \n",
       "3  1074.401280          0            0              1       0           0   \n",
       "4  2440.134858          0            1              0       0           0   \n",
       "\n",
       "   Stegosaurus  Plateosaurus  \n",
       "0            0             0  \n",
       "1            0             0  \n",
       "2            0             0  \n",
       "3            0             0  \n",
       "4            0             0  "
      ]
     },
     "execution_count": 1879,
     "metadata": {},
     "output_type": "execute_result"
    }
   ],
   "source": [
    "df_scaled = df.drop(\"Weight\", axis=1)\n",
    "df_scaled[\"Gender\"] = (df_scaled[\"Gender\"]==\"M\").astype(\"int16\")\n",
    "df_scaled = df_scaled.assign(Volume=df_scaled[\"Length\"]*df_scaled[\"Height\"]*df_scaled[\"Width\"])\n",
    "\n",
    "# An attempt to use the Species Feature\n",
    "species = df_scaled[\"Species\"].unique()\n",
    "for specie in species:\n",
    "    df_scaled[specie] = (df_scaled[\"Species\"]==specie).astype(\"int16\")\n",
    "df_scaled = df_scaled.drop(\"Species\", axis=1)\n",
    "\n",
    "m,n=df_scaled.shape\n",
    "\n",
    "df_scaled.head()"
   ]
  },
  {
   "cell_type": "markdown",
   "id": "2644f48b-0be3-493d-80c6-d5ed8e192aef",
   "metadata": {},
   "source": [
    "# Scaling"
   ]
  },
  {
   "cell_type": "code",
   "execution_count": 1880,
   "id": "e84599f0-5da4-4e1b-9e7a-aed81c967473",
   "metadata": {},
   "outputs": [
    {
     "data": {
      "text/html": [
       "<div>\n",
       "<style scoped>\n",
       "    .dataframe tbody tr th:only-of-type {\n",
       "        vertical-align: middle;\n",
       "    }\n",
       "\n",
       "    .dataframe tbody tr th {\n",
       "        vertical-align: top;\n",
       "    }\n",
       "\n",
       "    .dataframe thead th {\n",
       "        text-align: right;\n",
       "    }\n",
       "</style>\n",
       "<table border=\"1\" class=\"dataframe\">\n",
       "  <thead>\n",
       "    <tr style=\"text-align: right;\">\n",
       "      <th></th>\n",
       "      <th>Length</th>\n",
       "      <th>Age</th>\n",
       "      <th>TailLength</th>\n",
       "      <th>Height</th>\n",
       "      <th>Width</th>\n",
       "      <th>Gender</th>\n",
       "      <th>Completeness</th>\n",
       "      <th>Volume</th>\n",
       "      <th>Iguanadon</th>\n",
       "      <th>Pterodactyl</th>\n",
       "      <th>Brachiosaurus</th>\n",
       "      <th>Raptor</th>\n",
       "      <th>Vulcanodon</th>\n",
       "      <th>Stegosaurus</th>\n",
       "      <th>Plateosaurus</th>\n",
       "    </tr>\n",
       "  </thead>\n",
       "  <tbody>\n",
       "    <tr>\n",
       "      <th>0</th>\n",
       "      <td>3.276449</td>\n",
       "      <td>3.264577</td>\n",
       "      <td>3.167285</td>\n",
       "      <td>0.429519</td>\n",
       "      <td>1.816649</td>\n",
       "      <td>0.895402</td>\n",
       "      <td>0.014552</td>\n",
       "      <td>2.642208</td>\n",
       "      <td>2.881043</td>\n",
       "      <td>-0.735031</td>\n",
       "      <td>-0.529606</td>\n",
       "      <td>-0.378127</td>\n",
       "      <td>-0.197406</td>\n",
       "      <td>-0.309749</td>\n",
       "      <td>-0.271766</td>\n",
       "    </tr>\n",
       "    <tr>\n",
       "      <th>1</th>\n",
       "      <td>-0.424868</td>\n",
       "      <td>-0.412056</td>\n",
       "      <td>-0.493275</td>\n",
       "      <td>-0.605662</td>\n",
       "      <td>-0.351456</td>\n",
       "      <td>0.895402</td>\n",
       "      <td>-0.037028</td>\n",
       "      <td>-0.698052</td>\n",
       "      <td>-0.344914</td>\n",
       "      <td>1.351931</td>\n",
       "      <td>-0.529606</td>\n",
       "      <td>-0.378127</td>\n",
       "      <td>-0.197406</td>\n",
       "      <td>-0.309749</td>\n",
       "      <td>-0.271766</td>\n",
       "    </tr>\n",
       "    <tr>\n",
       "      <th>2</th>\n",
       "      <td>1.085669</td>\n",
       "      <td>1.080993</td>\n",
       "      <td>0.970949</td>\n",
       "      <td>0.504877</td>\n",
       "      <td>1.312439</td>\n",
       "      <td>-1.109793</td>\n",
       "      <td>0.441923</td>\n",
       "      <td>1.039043</td>\n",
       "      <td>-0.344914</td>\n",
       "      <td>1.351931</td>\n",
       "      <td>-0.529606</td>\n",
       "      <td>-0.378127</td>\n",
       "      <td>-0.197406</td>\n",
       "      <td>-0.309749</td>\n",
       "      <td>-0.271766</td>\n",
       "    </tr>\n",
       "    <tr>\n",
       "      <th>3</th>\n",
       "      <td>-0.304825</td>\n",
       "      <td>-0.281414</td>\n",
       "      <td>-0.105686</td>\n",
       "      <td>0.594700</td>\n",
       "      <td>-0.235784</td>\n",
       "      <td>-1.109793</td>\n",
       "      <td>0.928243</td>\n",
       "      <td>-0.273770</td>\n",
       "      <td>-0.344914</td>\n",
       "      <td>-0.735031</td>\n",
       "      <td>1.876320</td>\n",
       "      <td>-0.378127</td>\n",
       "      <td>-0.197406</td>\n",
       "      <td>-0.309749</td>\n",
       "      <td>-0.271766</td>\n",
       "    </tr>\n",
       "    <tr>\n",
       "      <th>4</th>\n",
       "      <td>1.025648</td>\n",
       "      <td>0.987678</td>\n",
       "      <td>0.876205</td>\n",
       "      <td>0.505250</td>\n",
       "      <td>0.940509</td>\n",
       "      <td>0.895402</td>\n",
       "      <td>1.436668</td>\n",
       "      <td>0.803397</td>\n",
       "      <td>-0.344914</td>\n",
       "      <td>1.351931</td>\n",
       "      <td>-0.529606</td>\n",
       "      <td>-0.378127</td>\n",
       "      <td>-0.197406</td>\n",
       "      <td>-0.309749</td>\n",
       "      <td>-0.271766</td>\n",
       "    </tr>\n",
       "  </tbody>\n",
       "</table>\n",
       "</div>"
      ],
      "text/plain": [
       "     Length       Age  TailLength    Height     Width    Gender  Completeness  \\\n",
       "0  3.276449  3.264577    3.167285  0.429519  1.816649  0.895402      0.014552   \n",
       "1 -0.424868 -0.412056   -0.493275 -0.605662 -0.351456  0.895402     -0.037028   \n",
       "2  1.085669  1.080993    0.970949  0.504877  1.312439 -1.109793      0.441923   \n",
       "3 -0.304825 -0.281414   -0.105686  0.594700 -0.235784 -1.109793      0.928243   \n",
       "4  1.025648  0.987678    0.876205  0.505250  0.940509  0.895402      1.436668   \n",
       "\n",
       "     Volume  Iguanadon  Pterodactyl  Brachiosaurus    Raptor  Vulcanodon  \\\n",
       "0  2.642208   2.881043    -0.735031      -0.529606 -0.378127   -0.197406   \n",
       "1 -0.698052  -0.344914     1.351931      -0.529606 -0.378127   -0.197406   \n",
       "2  1.039043  -0.344914     1.351931      -0.529606 -0.378127   -0.197406   \n",
       "3 -0.273770  -0.344914    -0.735031       1.876320 -0.378127   -0.197406   \n",
       "4  0.803397  -0.344914     1.351931      -0.529606 -0.378127   -0.197406   \n",
       "\n",
       "   Stegosaurus  Plateosaurus  \n",
       "0    -0.309749     -0.271766  \n",
       "1    -0.309749     -0.271766  \n",
       "2    -0.309749     -0.271766  \n",
       "3    -0.309749     -0.271766  \n",
       "4    -0.309749     -0.271766  "
      ]
     },
     "execution_count": 1880,
     "metadata": {},
     "output_type": "execute_result"
    }
   ],
   "source": [
    "# Min-Max Scaling (Normalization)\n",
    "\"\"\"\n",
    "for i in range(n):\n",
    "    series = df_scaled.iloc[:, i]\n",
    "    min_value = series.min()\n",
    "    max_value = series.max()\n",
    "    df_scaled.iloc[:, i] = (series - min_value) / (max_value - min_value)\n",
    "\"\"\"\n",
    "\n",
    "#standardization Scaling \n",
    "\n",
    "for i in range(n):    \n",
    "    x= df_scaled.iloc[:, i]\n",
    "    mean_value = x.mean()\n",
    "    std_deviation = abs(x.std())\n",
    "    stanadardized_x = (x - mean_value) / std_deviation\n",
    "    df_scaled.iloc[:, i]= stanadardized_x\n",
    "\n",
    "\n",
    "df_scaled.head()"
   ]
  },
  {
   "cell_type": "code",
   "execution_count": 1881,
   "id": "9db530d2-4f69-4047-8bc6-eae6abd502e0",
   "metadata": {},
   "outputs": [
    {
     "data": {
      "text/plain": [
       "'\\nfor label in cols:\\n    plt.scatter(df_scaled[label], Y)\\n    plt.title(label)\\n    plt.show()\\n'"
      ]
     },
     "execution_count": 1881,
     "metadata": {},
     "output_type": "execute_result"
    }
   ],
   "source": [
    "cols = df_scaled.columns\n",
    "\n",
    "\n",
    "\"\"\"\n",
    "for label in cols:\n",
    "    plt.scatter(df_scaled[label], Y)\n",
    "    plt.title(label)\n",
    "    plt.show()\n",
    "\"\"\""
   ]
  },
  {
   "cell_type": "markdown",
   "id": "f707f44b-3f0e-42c8-af19-74f86e973db3",
   "metadata": {},
   "source": [
    "Since *Completenes* does not to have any relation to weigth we will dorp it from the dataframe "
   ]
  },
  {
   "cell_type": "code",
   "execution_count": 1882,
   "id": "15c414e2-47de-409a-8255-60d2e461f3fe",
   "metadata": {},
   "outputs": [],
   "source": [
    "df_scaled = df_scaled.drop(\"Completeness\", axis=1)\n",
    "#df_scaled = df_scaled.drop(\"Volume\", axis=1)"
   ]
  },
  {
   "cell_type": "markdown",
   "id": "6d138009-3610-421b-b6d9-8ac47d841973",
   "metadata": {},
   "source": [
    "# Test and Train split"
   ]
  },
  {
   "cell_type": "code",
   "execution_count": 1883,
   "id": "5cbfee56-fbe4-4921-9ca2-79ad2d31e452",
   "metadata": {},
   "outputs": [],
   "source": [
    "train, test = np.split(df_scaled, [int(0.7*len(df_scaled))])\n",
    "\n",
    "Y, Y_test = np.split(df[\"Weight\"], [int(0.7*len(df[\"Weight\"]))])"
   ]
  },
  {
   "cell_type": "code",
   "execution_count": 1884,
   "id": "7c91acca-8f56-4ede-bb94-f2545dc3507f",
   "metadata": {},
   "outputs": [],
   "source": [
    "Y = df[\"Weight\"]\n",
    "X = train.to_numpy()\n",
    "#cols = [\"Length\", \"Age\", \"TailLength\", \"Height\", \"Width\", \"Gender\", \"Volume\"]\n",
    "m,n = train.shape"
   ]
  },
  {
   "cell_type": "code",
   "execution_count": 1885,
   "id": "f343cf46",
   "metadata": {},
   "outputs": [],
   "source": [
    "squares = [\"Length\", \"Age\", \"TailLength\", \"Height\", \"Width\"]\n",
    "df2= pd.DataFrame()\n",
    "for feature in squares:\n",
    "\tdf2[feature] = df_scaled[feature]\n",
    " \n",
    "df2 = df2**2\n",
    "\n",
    "train2, test2 = np.split(df2, [int(0.7*len(df2))])\n",
    "X2 = train2.to_numpy()\n",
    "\n",
    "m,n2 = train2.shape"
   ]
  },
  {
   "cell_type": "markdown",
   "id": "24158ddf-c1b3-4917-baa5-1001b7fe0dbb",
   "metadata": {},
   "source": [
    "As some of the data seems to following the x^2+x+c=0 graph polynomial regression would be better fitting to the model."
   ]
  },
  {
   "cell_type": "markdown",
   "id": "3059dd6c",
   "metadata": {},
   "source": [
    "# Training"
   ]
  },
  {
   "cell_type": "code",
   "execution_count": 1886,
   "id": "806c043e-8664-4551-bdbd-9b594e657055",
   "metadata": {},
   "outputs": [
    {
     "name": "stdout",
     "output_type": "stream",
     "text": [
      "w2=[0.01104948 0.01104948 0.01104948 0.01104948 0.01104948]\n",
      "w=[-0.00032526 -0.00032526 -0.00032526 -0.00032526 -0.00032526 -0.00032526\n",
      " -0.00032526 -0.00032526 -0.00032526 -0.00032526 -0.00032526 -0.00032526\n",
      " -0.00032526 -0.00032526]\n",
      "b=1.9509942953838444e-05\n"
     ]
    }
   ],
   "source": [
    "w = np.zeros(n) #parameter vector\n",
    "w2 = np.zeros(n2)\n",
    "b=0\n",
    "\n",
    "alpha = 1*pow(10, -10) #learniing rate\n",
    "#exp 0.0001, linear 0.01\n",
    "\n",
    "lamb = 2*pow(10,5)# regularization factor\n",
    "#exp 200000, linear 1000\n",
    "\n",
    "epochs = 500 #number of iterations\n",
    "#exp 1000 linear 1000\n",
    "\n",
    "Cost=np.zeros(epochs)\n",
    "iter = np.linspace(0, epochs-1, epochs)\n",
    "\n",
    "for i in range(epochs):\n",
    "    Y_pred = pd.Series(np.zeros(m))#a pandas series \n",
    "    \n",
    "    #linear curve \n",
    "    Y_pred = np.dot(X2, w2) + np.dot(X , w) + b * pd.Series(np.ones(m)) \n",
    "\n",
    "    #exponential curve\n",
    "    #Y_pred = np.exp(X@w + b * pd.Series(np.ones(m))) \n",
    "    \n",
    "    D_w = (1/m)*np.sum(Y_pred- Y)*np.sum(X) + (lamb/(2*m))*w\n",
    "    D_w2 = (1/m)*np.sum(Y_pred- Y)*np.sum(X2) + (lamb/(2*m))*w2\n",
    "    D_b = (1/m)*np.sum(Y_pred- Y)\n",
    "\n",
    "    cost = (1/(2*m))*np.sum(pow(Y_pred-Y, 2)) + (lamb/(2*m))*np.sum(w**2) + (lamb/(2*m))*np.sum(w2**2)\n",
    "    #exp cost = to be figured\n",
    "    Cost[i]= cost\n",
    "    \n",
    "    w = w - alpha * D_w\n",
    "    w2 = w2 - alpha * D_w2\n",
    "    b = b - alpha * D_b\n",
    "\n",
    "print(f\"w2={w2}\\nw={w}\\nb={b}\")"
   ]
  },
  {
   "cell_type": "code",
   "execution_count": 1887,
   "id": "031801d4-75d2-412d-ae78-094329e41f8f",
   "metadata": {},
   "outputs": [
    {
     "data": {
      "image/png": "[encoded data removed]",
      "text/plain": [
       "<Figure size 640x480 with 1 Axes>"
      ]
     },
     "metadata": {},
     "output_type": "display_data"
    }
   ],
   "source": [
    "plt.plot(iter, Cost)\n",
    "plt.show()"
   ]
  },
  {
   "cell_type": "code",
   "execution_count": 1888,
   "id": "cf511e26-2758-48a5-8f5f-9942da40f5cc",
   "metadata": {},
   "outputs": [
    {
     "name": "stdout",
     "output_type": "stream",
     "text": [
      "143979.94921625472\n"
     ]
    }
   ],
   "source": [
    "print(Cost.min())"
   ]
  },
  {
   "cell_type": "code",
   "execution_count": 1889,
   "id": "aeaaea05-2e1c-439e-930f-258976c41e29",
   "metadata": {},
   "outputs": [
    {
     "name": "stdout",
     "output_type": "stream",
     "text": [
      "143979.94921625472\n"
     ]
    }
   ],
   "source": [
    "print(cost)"
   ]
  },
  {
   "cell_type": "markdown",
   "id": "bb68e8ed",
   "metadata": {},
   "source": [
    "# Testing"
   ]
  },
  {
   "cell_type": "code",
   "execution_count": 1890,
   "id": "2f668e2f-e59c-4880-b325-283fb1449cba",
   "metadata": {},
   "outputs": [],
   "source": [
    "\n",
    "X_test = test.to_numpy()\n",
    "X_test2 = test2.to_numpy()\n",
    "#cols = [\"Length\", \"Age\", \"TailLength\", \"Height\", \"Width\", \"Gender\", \"Volume\"]\n",
    "m_test, n_test = test.shape\n",
    "_, n_test2 = test2.shape"
   ]
  },
  {
   "cell_type": "code",
   "execution_count": 1891,
   "id": "c5fa1283-6877-41bb-bb8e-fca79dae867f",
   "metadata": {},
   "outputs": [
    {
     "name": "stdout",
     "output_type": "stream",
     "text": [
      "140645.69450279546\n"
     ]
    }
   ],
   "source": [
    "Y_test_pred = X_test2 @ w2 + X_test @ w + b\n",
    "cost_test = (1/(2*m_test))*np.sum(pow(Y_test_pred-Y_test, 2)) \n",
    "print(cost_test)"
   ]
  },
  {
   "cell_type": "code",
   "execution_count": 1892,
   "id": "d5fd7dc5",
   "metadata": {},
   "outputs": [],
   "source": [
    "def errors(Y_pred, Y):\n",
    "\terror = Y_pred - Y_test\n",
    "\tMSE = np.mean(pow(error, 2))\n",
    "\tMAE = np.mean(abs(error))\n",
    "\tMAEP = np.mean(abs(error)/Y)\n",
    "\n",
    "\tprint(\"Mean Absolute Error: \",MAE) \n",
    "\tprint(\"Mean Squared Error: \",MSE)\n",
    "\tprint(\"Mean Absolute Error percentage: \",MAEP)"
   ]
  },
  {
   "cell_type": "code",
   "execution_count": 1893,
   "id": "3d17c951",
   "metadata": {},
   "outputs": [
    {
     "name": "stdout",
     "output_type": "stream",
     "text": [
      "Mean Absolute Error:  417.004863022044\n",
      "Mean Squared Error:  281291.389005591\n",
      "Mean Absolute Error percentage:  0.9978348779079744\n"
     ]
    }
   ],
   "source": [
    "errors(Y_test_pred, Y_test)"
   ]
  },
  {
   "cell_type": "code",
   "execution_count": null,
   "id": "4b9252d0",
   "metadata": {},
   "outputs": [],
   "source": []
  }
 ],
 "metadata": {
  "kernelspec": {
   "display_name": "Python 3 (ipykernel)",
   "language": "python",
   "name": "python3"
  },
  "language_info": {
   "codemirror_mode": {
    "name": "ipython",
    "version": 3
   },
   "file_extension": ".py",
   "mimetype": "text/x-python",
   "name": "python",
   "nbconvert_exporter": "python",
   "pygments_lexer": "ipython3",
   "version": "3.8.10"
  }
 },
 "nbformat": 4,
 "nbformat_minor": 5
}
