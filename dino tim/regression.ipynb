{
 "cells": [
  {
   "cell_type": "code",
   "execution_count": 91,
   "id": "779b8c3e-fa57-45d8-94ed-908debe94fa5",
   "metadata": {},
   "outputs": [],
   "source": [
    "import numpy as np\n",
    "import pandas as pd\n",
    "import matplotlib.pyplot as plt"
   ]
  },
  {
   "cell_type": "code",
   "execution_count": 92,
   "id": "6f9b0bb8-9a86-4d40-8be6-770083dc73ae",
   "metadata": {},
   "outputs": [],
   "source": [
    "df = pd.read_csv(\"dinos.csv\")"
   ]
  },
  {
   "cell_type": "code",
   "execution_count": 93,
   "id": "6a99265a-9c39-4c59-a72f-5ef4288b222a",
   "metadata": {},
   "outputs": [
    {
     "data": {
      "text/html": [
       "<div>\n",
       "<style scoped>\n",
       "    .dataframe tbody tr th:only-of-type {\n",
       "        vertical-align: middle;\n",
       "    }\n",
       "\n",
       "    .dataframe tbody tr th {\n",
       "        vertical-align: top;\n",
       "    }\n",
       "\n",
       "    .dataframe thead th {\n",
       "        text-align: right;\n",
       "    }\n",
       "</style>\n",
       "<table border=\"1\" class=\"dataframe\">\n",
       "  <thead>\n",
       "    <tr style=\"text-align: right;\">\n",
       "      <th></th>\n",
       "      <th>Species</th>\n",
       "      <th>Length</th>\n",
       "      <th>Age</th>\n",
       "      <th>TailLength</th>\n",
       "      <th>Height</th>\n",
       "      <th>Width</th>\n",
       "      <th>Gender</th>\n",
       "      <th>Completeness</th>\n",
       "      <th>Volume</th>\n",
       "    </tr>\n",
       "  </thead>\n",
       "  <tbody>\n",
       "    <tr>\n",
       "      <th>0</th>\n",
       "      <td>1.0</td>\n",
       "      <td>59.0</td>\n",
       "      <td>63.4</td>\n",
       "      <td>68.0</td>\n",
       "      <td>10.8120</td>\n",
       "      <td>7.480</td>\n",
       "      <td>1</td>\n",
       "      <td>0.545</td>\n",
       "      <td>4771.551840</td>\n",
       "    </tr>\n",
       "    <tr>\n",
       "      <th>1</th>\n",
       "      <td>2.0</td>\n",
       "      <td>22.0</td>\n",
       "      <td>24.0</td>\n",
       "      <td>25.5</td>\n",
       "      <td>6.3750</td>\n",
       "      <td>3.825</td>\n",
       "      <td>1</td>\n",
       "      <td>0.531</td>\n",
       "      <td>536.456250</td>\n",
       "    </tr>\n",
       "    <tr>\n",
       "      <th>2</th>\n",
       "      <td>2.0</td>\n",
       "      <td>37.1</td>\n",
       "      <td>40.0</td>\n",
       "      <td>42.5</td>\n",
       "      <td>11.1350</td>\n",
       "      <td>6.630</td>\n",
       "      <td>0</td>\n",
       "      <td>0.661</td>\n",
       "      <td>2738.909355</td>\n",
       "    </tr>\n",
       "    <tr>\n",
       "      <th>3</th>\n",
       "      <td>3.0</td>\n",
       "      <td>23.2</td>\n",
       "      <td>25.4</td>\n",
       "      <td>30.0</td>\n",
       "      <td>11.5200</td>\n",
       "      <td>4.020</td>\n",
       "      <td>0</td>\n",
       "      <td>0.793</td>\n",
       "      <td>1074.401280</td>\n",
       "    </tr>\n",
       "    <tr>\n",
       "      <th>4</th>\n",
       "      <td>2.0</td>\n",
       "      <td>36.5</td>\n",
       "      <td>39.0</td>\n",
       "      <td>41.4</td>\n",
       "      <td>11.1366</td>\n",
       "      <td>6.003</td>\n",
       "      <td>1</td>\n",
       "      <td>0.931</td>\n",
       "      <td>2440.134858</td>\n",
       "    </tr>\n",
       "  </tbody>\n",
       "</table>\n",
       "</div>"
      ],
      "text/plain": [
       "   Species  Length   Age  TailLength   Height  Width  Gender  Completeness  \\\n",
       "0      1.0    59.0  63.4        68.0  10.8120  7.480       1         0.545   \n",
       "1      2.0    22.0  24.0        25.5   6.3750  3.825       1         0.531   \n",
       "2      2.0    37.1  40.0        42.5  11.1350  6.630       0         0.661   \n",
       "3      3.0    23.2  25.4        30.0  11.5200  4.020       0         0.793   \n",
       "4      2.0    36.5  39.0        41.4  11.1366  6.003       1         0.931   \n",
       "\n",
       "        Volume  \n",
       "0  4771.551840  \n",
       "1   536.456250  \n",
       "2  2738.909355  \n",
       "3  1074.401280  \n",
       "4  2440.134858  "
      ]
     },
     "execution_count": 93,
     "metadata": {},
     "output_type": "execute_result"
    }
   ],
   "source": [
    "df_scaled = df.drop(\"Weight\", axis=1)\n",
    "df_scaled[\"Gender\"] = (df_scaled[\"Gender\"]==\"M\").astype(\"int16\")\n",
    "df_scaled = df_scaled.assign(Volume=df_scaled[\"Length\"]*df_scaled[\"Height\"]*df_scaled[\"Width\"])\n",
    "\n",
    "#df_scaled = df_scaled.drop(\"Species\", axis=1)\n",
    "\n",
    "m,n=df_scaled.shape\n",
    "\n",
    "# An attempt to use the Species Feature\n",
    "\"\"\"\n",
    "for i in range(m):\n",
    "    if df_scaled[\"Species\"][i] == \"Iguanadon\":\n",
    "        df_scaled[\"Species\"][i] = 1.0\n",
    "    elif df_scaled[\"Species\"][i] == \"Pterodactyl\":\n",
    "        df_scaled[\"Species\"][i] = 2.0\n",
    "    elif df_scaled[\"Species\"][i] == \"Brachiosaurus\":\n",
    "        df_scaled[\"Species\"][i] = 3.0\n",
    "    elif df_scaled[\"Species\"][i] == \"Stegosaurus\":\n",
    "        df_scaled[\"Species\"][i] = 4.0\n",
    "    elif df_scaled[\"Species\"][i] == \"Plateosaurus\":\n",
    "        df_scaled[\"Species\"][i] = 5.0\n",
    "    elif df_scaled[\"Species\"][i] == \"Vulcanodon\":\n",
    "        df_scaled[\"Species\"][i] = 6.0\n",
    "\"\"\"\n",
    "df_scaled[\"Species\"] = df_scaled[\"Species\"].replace({\"Iguanadon\":1.0, \n",
    "                                                     \"Pterodactyl\":2.0, \n",
    "                                                     \"Brachiosaurus\":3.0,\n",
    "                                                     \"Stegosaurus\":4.0,\n",
    "                                                     \"Plateosaurus\":5.0,\n",
    "                                                     \"Vulcanodon\":6.0,\n",
    "                                                     \"Raptor\":7.0})\n",
    "\n",
    "df_scaled.head()"
   ]
  },
  {
   "cell_type": "code",
   "execution_count": 94,
   "id": "89697a63-47ad-43e6-9b6a-0b4ed7cb2213",
   "metadata": {},
   "outputs": [
    {
     "name": "stdout",
     "output_type": "stream",
     "text": [
      "<class 'numpy.float64'>\n",
      "<class 'numpy.float64'>\n",
      "<class 'numpy.float64'>\n",
      "<class 'numpy.float64'>\n",
      "<class 'numpy.float64'>\n",
      "<class 'numpy.float64'>\n",
      "<class 'numpy.int16'>\n",
      "<class 'numpy.float64'>\n",
      "<class 'numpy.float64'>\n"
     ]
    }
   ],
   "source": [
    "for i in range(n):\n",
    "    print(type(df_scaled.iloc[:,i][0]))"
   ]
  },
  {
   "cell_type": "markdown",
   "id": "2644f48b-0be3-493d-80c6-d5ed8e192aef",
   "metadata": {},
   "source": [
    "# Scaling"
   ]
  },
  {
   "cell_type": "code",
   "execution_count": 95,
   "id": "e84599f0-5da4-4e1b-9e7a-aed81c967473",
   "metadata": {},
   "outputs": [
    {
     "data": {
      "text/html": [
       "<div>\n",
       "<style scoped>\n",
       "    .dataframe tbody tr th:only-of-type {\n",
       "        vertical-align: middle;\n",
       "    }\n",
       "\n",
       "    .dataframe tbody tr th {\n",
       "        vertical-align: top;\n",
       "    }\n",
       "\n",
       "    .dataframe thead th {\n",
       "        text-align: right;\n",
       "    }\n",
       "</style>\n",
       "<table border=\"1\" class=\"dataframe\">\n",
       "  <thead>\n",
       "    <tr style=\"text-align: right;\">\n",
       "      <th></th>\n",
       "      <th>Species</th>\n",
       "      <th>Length</th>\n",
       "      <th>Age</th>\n",
       "      <th>TailLength</th>\n",
       "      <th>Height</th>\n",
       "      <th>Width</th>\n",
       "      <th>Gender</th>\n",
       "      <th>Completeness</th>\n",
       "      <th>Volume</th>\n",
       "    </tr>\n",
       "  </thead>\n",
       "  <tbody>\n",
       "    <tr>\n",
       "      <th>0</th>\n",
       "      <td>-1.227187</td>\n",
       "      <td>3.276449</td>\n",
       "      <td>3.264577</td>\n",
       "      <td>3.167285</td>\n",
       "      <td>0.429519</td>\n",
       "      <td>1.816649</td>\n",
       "      <td>0.895402</td>\n",
       "      <td>0.014552</td>\n",
       "      <td>2.642208</td>\n",
       "    </tr>\n",
       "    <tr>\n",
       "      <th>1</th>\n",
       "      <td>-0.688174</td>\n",
       "      <td>-0.424868</td>\n",
       "      <td>-0.412056</td>\n",
       "      <td>-0.493275</td>\n",
       "      <td>-0.605662</td>\n",
       "      <td>-0.351456</td>\n",
       "      <td>0.895402</td>\n",
       "      <td>-0.037028</td>\n",
       "      <td>-0.698052</td>\n",
       "    </tr>\n",
       "    <tr>\n",
       "      <th>2</th>\n",
       "      <td>-0.688174</td>\n",
       "      <td>1.085669</td>\n",
       "      <td>1.080993</td>\n",
       "      <td>0.970949</td>\n",
       "      <td>0.504877</td>\n",
       "      <td>1.312439</td>\n",
       "      <td>-1.109793</td>\n",
       "      <td>0.441923</td>\n",
       "      <td>1.039043</td>\n",
       "    </tr>\n",
       "    <tr>\n",
       "      <th>3</th>\n",
       "      <td>-0.149161</td>\n",
       "      <td>-0.304825</td>\n",
       "      <td>-0.281414</td>\n",
       "      <td>-0.105686</td>\n",
       "      <td>0.594700</td>\n",
       "      <td>-0.235784</td>\n",
       "      <td>-1.109793</td>\n",
       "      <td>0.928243</td>\n",
       "      <td>-0.273770</td>\n",
       "    </tr>\n",
       "    <tr>\n",
       "      <th>4</th>\n",
       "      <td>-0.688174</td>\n",
       "      <td>1.025648</td>\n",
       "      <td>0.987678</td>\n",
       "      <td>0.876205</td>\n",
       "      <td>0.505250</td>\n",
       "      <td>0.940509</td>\n",
       "      <td>0.895402</td>\n",
       "      <td>1.436668</td>\n",
       "      <td>0.803397</td>\n",
       "    </tr>\n",
       "  </tbody>\n",
       "</table>\n",
       "</div>"
      ],
      "text/plain": [
       "    Species    Length       Age  TailLength    Height     Width    Gender  \\\n",
       "0 -1.227187  3.276449  3.264577    3.167285  0.429519  1.816649  0.895402   \n",
       "1 -0.688174 -0.424868 -0.412056   -0.493275 -0.605662 -0.351456  0.895402   \n",
       "2 -0.688174  1.085669  1.080993    0.970949  0.504877  1.312439 -1.109793   \n",
       "3 -0.149161 -0.304825 -0.281414   -0.105686  0.594700 -0.235784 -1.109793   \n",
       "4 -0.688174  1.025648  0.987678    0.876205  0.505250  0.940509  0.895402   \n",
       "\n",
       "   Completeness    Volume  \n",
       "0      0.014552  2.642208  \n",
       "1     -0.037028 -0.698052  \n",
       "2      0.441923  1.039043  \n",
       "3      0.928243 -0.273770  \n",
       "4      1.436668  0.803397  "
      ]
     },
     "execution_count": 95,
     "metadata": {},
     "output_type": "execute_result"
    }
   ],
   "source": [
    "# Min-Max Scaling (Normalization)\n",
    "\"\"\"\n",
    "for i in range(n):\n",
    "    series = df_scaled.iloc[:, i]\n",
    "    min_value = series.min()\n",
    "    max_value = series.max()\n",
    "    df_scaled.iloc[:, i] = (series - min_value) / (max_value - min_value)\n",
    "\"\"\"\n",
    "\n",
    "#standardization Scaling \n",
    "\n",
    "for i in range(n):    \n",
    "    x= df_scaled.iloc[:, i]\n",
    "    mean_value = x.mean()\n",
    "    std_deviation = abs(x.std())\n",
    "    stanadardized_x = (x - mean_value) / std_deviation\n",
    "    df_scaled.iloc[:, i]= stanadardized_x\n",
    "\n",
    "\n",
    "df_scaled.head()"
   ]
  },
  {
   "cell_type": "code",
   "execution_count": 96,
   "id": "9db530d2-4f69-4047-8bc6-eae6abd502e0",
   "metadata": {},
   "outputs": [
    {
     "data": {
      "text/plain": [
       "'\\nfor label in cols:\\n    plt.scatter(df_scaled[label], Y)\\n    plt.title(label)\\n    plt.show()\\n'"
      ]
     },
     "execution_count": 96,
     "metadata": {},
     "output_type": "execute_result"
    }
   ],
   "source": [
    "cols = df_scaled.columns\n",
    "\n",
    "\"\"\"\n",
    "for label in cols:\n",
    "    plt.scatter(df_scaled[label], Y)\n",
    "    plt.title(label)\n",
    "    plt.show()\n",
    "\"\"\""
   ]
  },
  {
   "cell_type": "markdown",
   "id": "f707f44b-3f0e-42c8-af19-74f86e973db3",
   "metadata": {},
   "source": [
    "Since *Completenes* does not to have any relation to weigth we will dorp it from the dataframe "
   ]
  },
  {
   "cell_type": "code",
   "execution_count": 97,
   "id": "15c414e2-47de-409a-8255-60d2e461f3fe",
   "metadata": {},
   "outputs": [],
   "source": [
    "df_scaled = df_scaled.drop(\"Completeness\", axis=1)\n",
    "#df_scaled = df_scaled.drop(\"Volume\", axis=1)"
   ]
  },
  {
   "cell_type": "markdown",
   "id": "6d138009-3610-421b-b6d9-8ac47d841973",
   "metadata": {},
   "source": [
    "# Test and Train split"
   ]
  },
  {
   "cell_type": "code",
   "execution_count": 98,
   "id": "5cbfee56-fbe4-4921-9ca2-79ad2d31e452",
   "metadata": {},
   "outputs": [],
   "source": [
    "train, test = np.split(df_scaled, [int(0.7*len(df_scaled))])\n",
    "\n",
    "Y, Y_test = np.split(df[\"Weight\"], [int(0.7*len(df[\"Weight\"]))])"
   ]
  },
  {
   "cell_type": "code",
   "execution_count": 99,
   "id": "7c91acca-8f56-4ede-bb94-f2545dc3507f",
   "metadata": {},
   "outputs": [],
   "source": [
    "Y = df[\"Weight\"]\n",
    "X = train.to_numpy()\n",
    "#cols = [\"Length\", \"Age\", \"TailLength\", \"Height\", \"Width\", \"Gender\", \"Volume\"]\n",
    "m,n = train.shape"
   ]
  },
  {
   "cell_type": "markdown",
   "id": "24158ddf-c1b3-4917-baa5-1001b7fe0dbb",
   "metadata": {},
   "source": [
    "As most of the data seems to following an exponential graph an exponential curve would be better fitting to to the model."
   ]
  },
  {
   "cell_type": "code",
   "execution_count": 100,
   "id": "806c043e-8664-4551-bdbd-9b594e657055",
   "metadata": {},
   "outputs": [
    {
     "name": "stdout",
     "output_type": "stream",
     "text": [
      "[-1.48552047e-14 -9.17137683e-15 -8.89479976e-15 -1.06480341e-14\n",
      " -1.30740686e-14 -7.58666721e-15  1.93284999e-14 -1.50684437e-14] 5.96672869033932\n"
     ]
    }
   ],
   "source": [
    "w = np.zeros(n) #parameter vector\n",
    "b=0\n",
    "\n",
    "alpha = 0.0001 #learniing rate\n",
    "#exp 0.0001, linear 0.01\n",
    "\n",
    "lamb = 200000# regularization factor\n",
    "#exp 200000, linear 1000\n",
    "\n",
    "epochs = 1000 #number of iterations\n",
    "#exp 1000 linear 1000\n",
    "\n",
    "Cost=np.zeros(epochs)\n",
    "iter = np.linspace(0, epochs-1, epochs)\n",
    "\n",
    "for i in range(epochs):\n",
    "    Y_pred = pd.Series(np.zeros(m))#a pandas series \n",
    "    \n",
    "    #linear curve (line)\n",
    "    #Y_pred = np.dot(X, w) + b * pd.Series(np.ones(m)) \n",
    "\n",
    "    #exponential curve\n",
    "    Y_pred = np.exp(X@w + b * pd.Series(np.ones(m))) \n",
    "    \n",
    "    D_w = (1/m)*np.sum(Y_pred- Y)*X + (lamb/(2*m))*w\n",
    "    D_b = (1/m)*np.sum(Y_pred- Y)\n",
    "\n",
    "    cost = (1/(2*m))*np.sum(pow(Y_pred-Y, 2)) + (lamb/(2*m))*np.sum(w**2)\n",
    "    #exp cost = to be figured\n",
    "    Cost[i]= cost\n",
    "    \n",
    "    w = w - alpha * D_w[1]\n",
    "    b = b - alpha * D_b\n",
    "\n",
    "print(w, b)"
   ]
  },
  {
   "cell_type": "code",
   "execution_count": 101,
   "id": "031801d4-75d2-412d-ae78-094329e41f8f",
   "metadata": {},
   "outputs": [
    {
     "data": {
      "image/png": "[encoded data removed]",
      "text/plain": [
       "<Figure size 640x480 with 1 Axes>"
      ]
     },
     "metadata": {},
     "output_type": "display_data"
    }
   ],
   "source": [
    "plt.plot(iter, Cost)\n",
    "plt.show()"
   ]
  },
  {
   "cell_type": "code",
   "execution_count": 102,
   "id": "cf511e26-2758-48a5-8f5f-9942da40f5cc",
   "metadata": {},
   "outputs": [
    {
     "name": "stdout",
     "output_type": "stream",
     "text": [
      "67874.21684198435\n"
     ]
    }
   ],
   "source": [
    "print(Cost.min())"
   ]
  },
  {
   "cell_type": "code",
   "execution_count": 103,
   "id": "aeaaea05-2e1c-439e-930f-258976c41e29",
   "metadata": {},
   "outputs": [
    {
     "name": "stdout",
     "output_type": "stream",
     "text": [
      "67874.21684198435\n"
     ]
    }
   ],
   "source": [
    "print(cost)"
   ]
  },
  {
   "cell_type": "code",
   "execution_count": 104,
   "id": "2f668e2f-e59c-4880-b325-283fb1449cba",
   "metadata": {},
   "outputs": [
    {
     "data": {
      "text/plain": [
       "(48, 8)"
      ]
     },
     "execution_count": 104,
     "metadata": {},
     "output_type": "execute_result"
    }
   ],
   "source": [
    "\n",
    "X_test = test.to_numpy()\n",
    "cols = [\"Length\", \"Age\", \"TailLength\", \"Height\", \"Width\", \"Gender\", \"Volume\"]\n",
    "m_test, n_test = test.shape\n",
    "test.shape"
   ]
  },
  {
   "cell_type": "code",
   "execution_count": 105,
   "id": "c5fa1283-6877-41bb-bb8e-fca79dae867f",
   "metadata": {},
   "outputs": [
    {
     "name": "stdout",
     "output_type": "stream",
     "text": [
      "138197.94932910506\n"
     ]
    }
   ],
   "source": [
    "Y_test_pred = X_test @ w + b\n",
    "cost_test = (1/(2*m_test))*np.sum(pow(Y_test_pred-Y_test, 2)) \n",
    "print(cost_test)"
   ]
  },
  {
   "cell_type": "code",
   "execution_count": 106,
   "id": "5654c94f-b137-46c9-8138-394cd8214519",
   "metadata": {},
   "outputs": [
    {
     "name": "stdout",
     "output_type": "stream",
     "text": [
      "4345.029060651291\n"
     ]
    }
   ],
   "source": [
    "error_test = abs(Y_test_pred - Y_test)\n",
    "error_test_p = np.sum(error_test*100/Y_test)\n",
    "print(error_test_p)"
   ]
  },
  {
   "cell_type": "code",
   "execution_count": 107,
   "id": "bd5f4a5d",
   "metadata": {},
   "outputs": [
    {
     "name": "stdout",
     "output_type": "stream",
     "text": [
      "0.9052143876356856\n"
     ]
    }
   ],
   "source": [
    "from sklearn.metrics import mean_absolute_percentage_error\n",
    "\n",
    "print(mean_absolute_percentage_error(y_pred=Y_test_pred, y_true=Y_test))"
   ]
  },
  {
   "cell_type": "code",
   "execution_count": null,
   "id": "e40c7892",
   "metadata": {},
   "outputs": [],
   "source": []
  }
 ],
 "metadata": {
  "kernelspec": {
   "display_name": "Python 3 (ipykernel)",
   "language": "python",
   "name": "python3"
  },
  "language_info": {
   "codemirror_mode": {
    "name": "ipython",
    "version": 3
   },
   "file_extension": ".py",
   "mimetype": "text/x-python",
   "name": "python",
   "nbconvert_exporter": "python",
   "pygments_lexer": "ipython3",
   "version": "3.8.10"
  }
 },
 "nbformat": 4,
 "nbformat_minor": 5
}
