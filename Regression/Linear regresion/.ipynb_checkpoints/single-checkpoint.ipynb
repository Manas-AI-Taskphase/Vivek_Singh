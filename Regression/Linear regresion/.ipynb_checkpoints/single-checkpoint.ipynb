{
 "cells": [
  {
   "cell_type": "code",
   "execution_count": 1,
   "id": "94949cbd-72a5-4394-b745-9889a93b24e2",
   "metadata": {
    "editable": true,
    "slideshow": {
     "slide_type": ""
    },
    "tags": []
   },
   "outputs": [],
   "source": [
    "import pandas as pd\n",
    "import numpy as np\n",
    "import matplotlib.pyplot as plt\n",
    "\n",
    "df = pd.read_csv(\"train.csv\")"
   ]
  },
  {
   "cell_type": "code",
   "execution_count": 2,
   "id": "6f095ff4-3aff-4e71-9e0c-6b962890b079",
   "metadata": {},
   "outputs": [],
   "source": []
  },
  {
   "cell_type": "code",
   "execution_count": 3,
   "id": "73c31ddc-abc7-4f55-9dae-756392a08ca0",
   "metadata": {},
   "outputs": [
    {
     "name": "stdout",
     "output_type": "stream",
     "text": [
      "['GrLivArea', 'GarageCars', 'GarageArea', 'TotalBsmtSF', '1stFlrSF', 'FullBath', 'TotRmsAbvGrd', 'YearBuilt', 'YearRemodAdd', 'SalePrice']\n"
     ]
    }
   ],
   "source": [
    "list = []\n",
    "for i in range(1,11):\n",
    "    list.append(df.columns[i])\n",
    "\n",
    "print(list)"
   ]
  },
  {
   "cell_type": "code",
   "execution_count": 4,
   "id": "9f3f84ed-b992-4559-880c-a50aa6e7d7e6",
   "metadata": {},
   "outputs": [],
   "source": [
    "\n",
    "def Cost(w, b):\n",
    "    costFucntion=0\n",
    "    for i in range(1168):\n",
    "        costFucntion += pow(df[\"SalePrice\"][i] - (w*df[\"GrLivArea\"][i]+b), 2)\n",
    "    costFucntion /= 1167\n",
    "    return costFucntion"
   ]
  },
  {
   "cell_type": "code",
   "execution_count": null,
   "id": "de3d0006-43e7-4821-b3f1-4acc89f3c795",
   "metadata": {},
   "outputs": [],
   "source": [
    "def w_derivative(w,b):\n",
    "    derivative=0\n",
    "    for i in range(1168):\n",
    "        derivative += df[\"GrLivArea\"][i]*(df[\"SalePrice\"][i] - Cost(w,b))\n",
    "    return derivative\n",
    "\n",
    "def b_derivative(w,b):\n",
    "    derivative=0\n",
    "    for i in range(1168):\n",
    "        derivative += (df[\"SalePrice\"][i] - Cost(w,b))\n",
    "    return derivative"
   ]
  },
  {
   "cell_type": "code",
   "execution_count": null,
   "id": "70d04922-954d-4dfa-a59e-53d715fc0289",
   "metadata": {},
   "outputs": [
    {
     "name": "stdout",
     "output_type": "stream",
     "text": [
      "40283312824.32569\n",
      "6.102592422631295e+51\n"
     ]
    }
   ],
   "source": [
    "w=-1.675392555428956\n",
    "b=-1.456133379631108\n",
    "cost=Cost(w, b)\n",
    "print(cost)\n",
    "pcost=cost +200\n",
    "for i in range(20):\n",
    "    #cost= Cost(w,b)\n",
    "    w= w + 0.001 * (-2/1167) * w_derivative(w,b)\n",
    "    b= b + 0.001 * (-2/1167) * b_derivative(w,b)\n",
    "    pcost = cost\n",
    "    cost = Cost(w,b)\n",
    "    print(cost)\n",
    "\n",
    "print(cost, w, b)"
   ]
  },
  {
   "cell_type": "code",
   "execution_count": null,
   "id": "29be0d1d-304e-4591-b8ff-66bd053cee24",
   "metadata": {},
   "outputs": [],
   "source": []
  }
 ],
 "metadata": {
  "kernelspec": {
   "display_name": "Python 3 (ipykernel)",
   "language": "python",
   "name": "python3"
  },
  "language_info": {
   "codemirror_mode": {
    "name": "ipython",
    "version": 3
   },
   "file_extension": ".py",
   "mimetype": "text/x-python",
   "name": "python",
   "nbconvert_exporter": "python",
   "pygments_lexer": "ipython3",
   "version": "3.8.10"
  }
 },
 "nbformat": 4,
 "nbformat_minor": 5
}
